{
 "cells": [
  {
   "cell_type": "code",
   "execution_count": 1,
   "id": "fd61c647-401b-460e-a937-984972839ed7",
   "metadata": {},
   "outputs": [],
   "source": [
    "import numpy as np\n",
    "\n",
    "MAX_RATING = 10\n",
    "USERS = 5\n",
    "ITEMS = 6\n",
    "NUM_RATINGS = 10"
   ]
  },
  {
   "cell_type": "code",
   "execution_count": 2,
   "id": "53150c92-d858-4c47-bf5f-32cd0f313be4",
   "metadata": {},
   "outputs": [
    {
     "name": "stdout",
     "output_type": "stream",
     "text": [
      "[[10  0  0  6  3  0]\n",
      " [ 0  0  0  0  0  0]\n",
      " [ 8  0  4  0  8  0]\n",
      " [ 0  0  0  3  2  0]\n",
      " [ 0  0  0  0  0  0]]\n"
     ]
    }
   ],
   "source": [
    "M = np.zeros(shape=(USERS, ITEMS), dtype=int)\n",
    "\n",
    "for n in range(NUM_RATINGS):\n",
    "    user = np.random.randint(USERS)\n",
    "    item = np.random.randint(ITEMS)\n",
    "    rating = np.random.randint(1, MAX_RATING + 1)\n",
    "    M[user, item] = rating\n",
    "\n",
    "print(M)"
   ]
  },
  {
   "cell_type": "code",
   "execution_count": 3,
   "id": "40a4442c-dfaa-4643-a630-062100a14e7e",
   "metadata": {},
   "outputs": [],
   "source": [
    "from numpy import linalg\n",
    "np.set_printoptions(precision=2, suppress=True)\n",
    "\n",
    "U, Sigma_, V = linalg.svd(M)"
   ]
  },
  {
   "cell_type": "code",
   "execution_count": 4,
   "id": "378f8aaf-2f96-47e1-9383-f5641ca65bc0",
   "metadata": {},
   "outputs": [
    {
     "name": "stdout",
     "output_type": "stream",
     "text": [
      "[[ 0.71 -0.68 -0.2  -0.    0.  ]\n",
      " [-0.   -0.   -0.    1.    0.  ]\n",
      " [ 0.7   0.71  0.04  0.    0.  ]\n",
      " [ 0.12 -0.17  0.98  0.    0.  ]\n",
      " [ 0.    0.    0.    0.    1.  ]]\n"
     ]
    }
   ],
   "source": [
    "print(U)"
   ]
  },
  {
   "cell_type": "code",
   "execution_count": 5,
   "id": "5a515fc8-b0ac-4f22-b234-1fa1d2afc4a3",
   "metadata": {},
   "outputs": [
    {
     "name": "stdout",
     "output_type": "stream",
     "text": [
      "[[ 0.8   0.    0.18  0.29  0.5   0.  ]\n",
      " [-0.17  0.    0.44 -0.71  0.52  0.  ]\n",
      " [-0.58 -0.    0.05  0.58  0.57  0.  ]\n",
      " [ 0.03 -0.49 -0.77 -0.23  0.35  0.  ]\n",
      " [-0.02 -0.87  0.43  0.13 -0.19  0.  ]\n",
      " [ 0.    0.    0.    0.    0.    1.  ]]\n"
     ]
    }
   ],
   "source": [
    "print(V)"
   ]
  },
  {
   "cell_type": "code",
   "execution_count": 6,
   "id": "4c1840f2-c811-495d-9cb5-f41ca8310bce",
   "metadata": {},
   "outputs": [
    {
     "name": "stdout",
     "output_type": "stream",
     "text": [
      "[15.87  6.44  2.95  0.    0.  ]\n"
     ]
    }
   ],
   "source": [
    "print(Sigma_)"
   ]
  },
  {
   "cell_type": "code",
   "execution_count": 7,
   "id": "3f9a63c6-0526-4b5b-8788-19d89e567da6",
   "metadata": {},
   "outputs": [],
   "source": [
    "Sigma = np.zeros((USERS, ITEMS))\n",
    "for i, s in enumerate(Sigma_):\n",
    "    Sigma[i,i] = s"
   ]
  },
  {
   "cell_type": "code",
   "execution_count": 8,
   "id": "5be2d2ba-9134-4e0e-bc2a-7123b48d5400",
   "metadata": {},
   "outputs": [
    {
     "name": "stdout",
     "output_type": "stream",
     "text": [
      "[[15.87  0.    0.    0.    0.    0.  ]\n",
      " [ 0.    6.44  0.    0.    0.    0.  ]\n",
      " [ 0.    0.    2.95  0.    0.    0.  ]\n",
      " [ 0.    0.    0.    0.    0.    0.  ]\n",
      " [ 0.    0.    0.    0.    0.    0.  ]]\n"
     ]
    }
   ],
   "source": [
    "print(Sigma)"
   ]
  },
  {
   "cell_type": "code",
   "execution_count": 9,
   "id": "9e9dff01-bdd9-40e0-8e91-85f10cda9c4e",
   "metadata": {},
   "outputs": [],
   "source": [
    "M_hat_0 = U @ Sigma @ V"
   ]
  },
  {
   "cell_type": "code",
   "execution_count": 10,
   "id": "e54e3921-6fc6-4c2b-8d98-a18621c72c8c",
   "metadata": {},
   "outputs": [
    {
     "name": "stdout",
     "output_type": "stream",
     "text": [
      "[[10.  0.  0.  6.  3.  0.]\n",
      " [-0. -0. -0.  0. -0.  0.]\n",
      " [ 8. -0.  4.  0.  8.  0.]\n",
      " [ 0. -0.  0.  3.  2.  0.]\n",
      " [ 0.  0.  0.  0.  0.  0.]]\n"
     ]
    }
   ],
   "source": [
    "print(M_hat_0)"
   ]
  },
  {
   "cell_type": "code",
   "execution_count": 11,
   "id": "dbd0d42d-b56d-48d4-85e3-c646ab1fe690",
   "metadata": {},
   "outputs": [
    {
     "data": {
      "text/plain": [
       "6.6539376261076315e-15"
      ]
     },
     "execution_count": 11,
     "metadata": {},
     "output_type": "execute_result"
    }
   ],
   "source": [
    "linalg.norm(M_hat_0 - M)"
   ]
  }
 ],
 "metadata": {
  "kernelspec": {
   "display_name": "Python 3 (ipykernel)",
   "language": "python",
   "name": "python3"
  },
  "language_info": {
   "codemirror_mode": {
    "name": "ipython",
    "version": 3
   },
   "file_extension": ".py",
   "mimetype": "text/x-python",
   "name": "python",
   "nbconvert_exporter": "python",
   "pygments_lexer": "ipython3",
   "version": "3.11.6"
  }
 },
 "nbformat": 4,
 "nbformat_minor": 5
}
